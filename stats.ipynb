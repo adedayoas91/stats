{
 "cells": [
  {
   "cell_type": "markdown",
   "metadata": {},
   "source": [
    "Given a jug of 10000 balls, some red and some blue balls, and you've drawn say 3 red and 10 blue with replacement, what is the best estimate (along with uncertainties) of the proportion of red to blue balls in the jug?\n",
    "\n",
    "Solve using both frequentist and Bayesian approach\n",
    "\n",
    "- what is most likely number of red and blue balls in jar?\n",
    "- compute a 95% confidence interval for this most likely value using simulation\n",
    "\n",
    "\n",
    "The Baye's theorem states \n",
    "\n",
    "$$P(\\theta|data,Model) = \\frac{P(data|\\theta,Model)*P(\\theta|Model)}{P(data|Model)}$$\n",
    "\n",
    "I make a randomised binary ball population with unspecified number of blue and red balls (balls are denoted as x) and\n",
    "coded blue balls as 0; red as 1\n",
    "\n",
    "Say 13 random samples are selected, such that $data = (x_{1}=0, x_{2}=0, x_{3}=1, ..... , x_{13}=0 )$ at any possible arrangements\n",
    "\n",
    "$\\theta$ is either blue or red ball"
   ]
  },
  {
   "cell_type": "markdown",
   "metadata": {},
   "source": []
  },
  {
   "cell_type": "code",
   "execution_count": 1,
   "metadata": {},
   "outputs": [],
   "source": [
    "import numpy as np\n"
   ]
  },
  {
   "cell_type": "code",
   "execution_count": 2,
   "metadata": {},
   "outputs": [
    {
     "data": {
      "text/plain": [
       "array([1.22589474e-01, 8.04309539e-06])"
      ]
     },
     "execution_count": 2,
     "metadata": {},
     "output_type": "execute_result"
    }
   ],
   "source": [
    "# generated randomed binary figures (1 for red, 0 for blue)\n",
    "np.random.seed(0)\n",
    "x = np.random.randint(0,2,10000)\n",
    "\n",
    "# taking a sample from x\n",
    "data = np.random.choice(x,size=13,replace=True)\n",
    "\n",
    "count_0 = 0\n",
    "count_1 = 0\n",
    "for i in range(len(data)):\n",
    "    if data[i] == 0:\n",
    "        count_0 +=1 \n",
    "    else:\n",
    "        count_1 += 1\n",
    "p_data_0 = (10/13)**count_0\n",
    "p_data_1 = (3/13)**count_0\n",
    "likelihood = np.array([p_data_0,p_data_1])\n",
    "likelihood\n",
    "    "
   ]
  },
  {
   "cell_type": "code",
   "execution_count": 3,
   "metadata": {},
   "outputs": [],
   "source": [
    "# prior\n",
    "# since ball can either be from either blue or red, the prior are 3/13 and 10/13\n",
    "\n",
    "prior_0 = 0.5    # red balls\n",
    "prior_1 = 0.5    # blue balls\n",
    "\n",
    "priors= np.array([prior_0,prior_1])"
   ]
  },
  {
   "cell_type": "markdown",
   "metadata": {},
   "source": [
    "The denominator is the sum of the products of the prior and likelihood over $\\theta$ \n",
    "\n",
    "$$P(data|Model) = \\sum_{\\theta}P(\\theta|Model) * P(data|\\theta,Model)$$"
   ]
  },
  {
   "cell_type": "code",
   "execution_count": 4,
   "metadata": {},
   "outputs": [],
   "source": [
    "denom = np.zeros(len(likelihood))\n",
    "for i in range(len(likelihood)):\n",
    "    denom[i] = likelihood[i]*priors[i]\n",
    "denominator = np.sum(denom)"
   ]
  },
  {
   "cell_type": "code",
   "execution_count": 5,
   "metadata": {},
   "outputs": [],
   "source": [
    "posteriors = np.zeros(len(priors))\n",
    "for i in range(len(posteriors)):\n",
    "    posteriors[i] = denom[i]/denominator"
   ]
  },
  {
   "cell_type": "code",
   "execution_count": 6,
   "metadata": {},
   "outputs": [
    {
     "data": {
      "text/plain": [
       "array([9.99934394e-01, 6.56056956e-05])"
      ]
     },
     "execution_count": 6,
     "metadata": {},
     "output_type": "execute_result"
    }
   ],
   "source": [
    "posteriors"
   ]
  },
  {
   "cell_type": "code",
   "execution_count": null,
   "metadata": {},
   "outputs": [],
   "source": []
  }
 ],
 "metadata": {
  "kernelspec": {
   "display_name": "Python 3",
   "language": "python",
   "name": "python3"
  },
  "language_info": {
   "codemirror_mode": {
    "name": "ipython",
    "version": 3
   },
   "file_extension": ".py",
   "mimetype": "text/x-python",
   "name": "python",
   "nbconvert_exporter": "python",
   "pygments_lexer": "ipython3",
   "version": "3.7.9"
  }
 },
 "nbformat": 4,
 "nbformat_minor": 4
}
